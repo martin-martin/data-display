{
 "cells": [
  {
   "cell_type": "code",
   "execution_count": 10,
   "metadata": {},
   "outputs": [],
   "source": [
    "from pprint import pprint\n"
   ]
  },
  {
   "cell_type": "markdown",
   "metadata": {},
   "source": [
    "# My Project\n",
    "\n",
    "_this is sweet_"
   ]
  },
  {
   "cell_type": "code",
   "execution_count": 11,
   "metadata": {},
   "outputs": [],
   "source": [
    "data = []\n",
    "\n",
    "with open('googleplaystore.csv', 'r') as fin:\n",
    "    for line in fin.readlines():\n",
    "        data.append(line)"
   ]
  },
  {
   "cell_type": "code",
   "execution_count": 12,
   "metadata": {},
   "outputs": [
    {
     "data": {
      "text/plain": [
       "['App,Category,Rating,Reviews,Size,Installs,Type,Price,Content Rating,Genres,Last Updated,Current Ver,Android Ver\\n',\n",
       " 'Photo Editor & Candy Camera & Grid & ScrapBook,ART_AND_DESIGN,4.1,159,19M,\"10,000+\",Free,0,Everyone,Art & Design,\"January 7, 2018\",1.0.0,4.0.3 and up\\n',\n",
       " 'Coloring book moana,ART_AND_DESIGN,3.9,967,14M,\"500,000+\",Free,0,Everyone,Art & Design;Pretend Play,\"January 15, 2018\",2.0.0,4.0.3 and up\\n',\n",
       " '\"U Launcher Lite – FREE Live Cool Themes, Hide Apps\",ART_AND_DESIGN,4.7,87510,8.7M,\"5,000,000+\",Free,0,Everyone,Art & Design,\"August 1, 2018\",1.2.4,4.0.3 and up\\n',\n",
       " 'Sketch - Draw & Paint,ART_AND_DESIGN,4.5,215644,25M,\"50,000,000+\",Free,0,Teen,Art & Design,\"June 8, 2018\",Varies with device,4.2 and up\\n']"
      ]
     },
     "execution_count": 12,
     "metadata": {},
     "output_type": "execute_result"
    }
   ],
   "source": [
    "data[:5]"
   ]
  },
  {
   "cell_type": "markdown",
   "metadata": {},
   "source": [
    "# Notes\n",
    "'Coloring book Moana' is in here"
   ]
  },
  {
   "cell_type": "code",
   "execution_count": 13,
   "metadata": {},
   "outputs": [
    {
     "data": {
      "text/plain": [
       "'Coloring book moana,ART_AND_DESIGN,3.9,967,14M,\"500,000+\",Free,0,Everyone,Art & Design;Pretend Play,\"January 15, 2018\",2.0.0,4.0.3 and up\\n'"
      ]
     },
     "execution_count": 13,
     "metadata": {},
     "output_type": "execute_result"
    }
   ],
   "source": [
    "data[2]"
   ]
  },
  {
   "cell_type": "code",
   "execution_count": null,
   "metadata": {},
   "outputs": [],
   "source": []
  }
 ],
 "metadata": {
  "kernelspec": {
   "display_name": "Python 3",
   "language": "python",
   "name": "python3"
  },
  "language_info": {
   "codemirror_mode": {
    "name": "ipython",
    "version": 3
   },
   "file_extension": ".py",
   "mimetype": "text/x-python",
   "name": "python",
   "nbconvert_exporter": "python",
   "pygments_lexer": "ipython3",
   "version": "3.6.5"
  }
 },
 "nbformat": 4,
 "nbformat_minor": 2
}
